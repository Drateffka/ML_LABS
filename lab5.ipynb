{
 "cells": [
  {
   "cell_type": "markdown",
   "id": "3db4d5bb-1f7a-4cdf-934d-11f17a2a11d0",
   "metadata": {},
   "source": [
    "# Raport z projektu 1  - Feature Engineering i EDA\n",
    "Autor: Ewa Szewczyk\n",
    "\n",
    "//opis projektu, jego krótkie podsumowanie \n",
    "\n",
    "## Zadanie 1\n",
    "Zapoznano się z biblioteką seaborn i jest podstawowymi możliwościami.\n",
    "\n",
    "## Zadanie 2\n",
    "Na stronie https://dane.gov.pl dane udostępniane są w różnych formatach takich jak csv, json, xlsx czy pdf. Dane te udostępniane są jako api, pliki lub strony internetowe. Są one oznaczane różnymi ikonami/etykietami pozwalającymi szybko sprawdzić ich stopień oczyszczenia, język, dostawcę czy dziedzinę z której pochodzą. Niektóre dane posiadają również podgląd w postaci tabelarycznej.\n",
    "* //Czy jest jeden rodzaj api??\n"
   ]
  },
  {
   "cell_type": "code",
   "execution_count": null,
   "id": "ef39dc1e-19d6-426f-9aa7-201de91c23de",
   "metadata": {},
   "outputs": [],
   "source": []
  }
 ],
 "metadata": {
  "kernelspec": {
   "display_name": "Python 3 (ipykernel)",
   "language": "python",
   "name": "python3"
  },
  "language_info": {
   "codemirror_mode": {
    "name": "ipython",
    "version": 3
   },
   "file_extension": ".py",
   "mimetype": "text/x-python",
   "name": "python",
   "nbconvert_exporter": "python",
   "pygments_lexer": "ipython3",
   "version": "3.10.9"
  }
 },
 "nbformat": 4,
 "nbformat_minor": 5
}
