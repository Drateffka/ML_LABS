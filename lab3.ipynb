{
  "nbformat": 4,
  "nbformat_minor": 0,
  "metadata": {
    "colab": {
      "provenance": []
    },
    "kernelspec": {
      "name": "python3",
      "display_name": "Python 3"
    },
    "language_info": {
      "name": "python"
    }
  },
  "cells": [
    {
      "cell_type": "code",
      "execution_count": null,
      "metadata": {
        "id": "fms3qDr7YErb"
      },
      "outputs": [],
      "source": [
        "# Potrzebne importy\n",
        "import numpy as np\n",
        "import pandas as pd"
      ]
    },
    {
      "cell_type": "markdown",
      "source": [
        "# Ćwiczenie 1"
      ],
      "metadata": {
        "id": "6tRlKEZVm_q3"
      }
    },
    {
      "cell_type": "markdown",
      "source": [
        "## Zadanie 1\n",
        "Wczytanie pliku"
      ],
      "metadata": {
        "id": "McLKCoY1elWG"
      }
    },
    {
      "cell_type": "code",
      "source": [
        "titanic = pd.read_csv('titanic.csv', na_values='?').set_index('id')\n",
        "titanic.columns = ['pclass', 'survived', 'name', 'sex', 'age', 'sibsp', 'parch',\n",
        "                   'ticket', 'fare', 'cabin', 'embarked', 'boat', 'body',\n",
        "                   'home.dest']"
      ],
      "metadata": {
        "id": "QZ20ihOEYoON"
      },
      "execution_count": null,
      "outputs": []
    },
    {
      "cell_type": "markdown",
      "source": [
        "## Zadanie 2\n"
      ],
      "metadata": {
        "id": "W5HYxanGeKkl"
      }
    },
    {
      "cell_type": "code",
      "source": [
        "print(titanic.head(20))\n",
        "print(titanic.info())"
      ],
      "metadata": {
        "colab": {
          "base_uri": "https://localhost:8080/"
        },
        "id": "9EkoPvSPZrzl",
        "outputId": "142990f8-954d-4fcb-b819-c5f025a7c7ba"
      },
      "execution_count": null,
      "outputs": [
        {
          "output_type": "stream",
          "name": "stdout",
          "text": [
            "    pclass  survived                                              name  \\\n",
            "id                                                                       \n",
            "1        1         1                      Allen,Miss. Elisabeth Walton   \n",
            "2        1         1                     Allison,Master. Hudson Trevor   \n",
            "3        1         0                       Allison,Miss. Helen Loraine   \n",
            "4        1         0               Allison,Mr. Hudson Joshua Creighton   \n",
            "5        1         0    Allison,Mrs. Hudson J C (Bessie Waldo Daniels)   \n",
            "6        1         1                                Anderson,Mr. Harry   \n",
            "7        1         1                  Andrews,Miss. Kornelia Theodosia   \n",
            "8        1         0                             Andrews,Mr. Thomas Jr   \n",
            "9        1         1      Appleton,Mrs. Edward Dale (Charlotte Lamson)   \n",
            "10       1         0                            Artagaveytia,Mr. Ramon   \n",
            "11       1         0                             Astor,Col. John Jacob   \n",
            "12       1         1  Astor,Mrs. John Jacob (Madeleine Talmadge Force)   \n",
            "13       1         1                      Aubart,Mme. Leontine Pauline   \n",
            "14       1         1                       Barber,Miss. Ellen 'Nellie'   \n",
            "15       1         1               Barkworth,Mr. Algernon Henry Wilson   \n",
            "16       1         0                                Baumann,Mr. John D   \n",
            "17       1         0                           Baxter,Mr. Quigg Edmond   \n",
            "18       1         1    Baxter,Mrs. James (Helene DeLaudeniere Chaput)   \n",
            "19       1         1                              Bazzani,Miss. Albina   \n",
            "20       1         0                               Beattie,Mr. Thomson   \n",
            "\n",
            "       sex      age  sibsp  parch    ticket      fare    cabin embarked boat  \\\n",
            "id                                                                             \n",
            "1   female  29.0000      0      0     24160  211.3375       B5        S    2   \n",
            "2     male   0.9167      1      2    113781  151.5500  C22 C26        S   11   \n",
            "3   female   2.0000      1      2    113781  151.5500  C22 C26        S  NaN   \n",
            "4     male  30.0000      1      2    113781  151.5500  C22 C26        S  NaN   \n",
            "5   female  25.0000      1      2    113781  151.5500  C22 C26        S  NaN   \n",
            "6     male  48.0000      0      0     19952   26.5500      E12        S    3   \n",
            "7   female  63.0000      1      0     13502   77.9583       D7        S   10   \n",
            "8     male  39.0000      0      0    112050    0.0000      A36        S  NaN   \n",
            "9   female  53.0000      2      0     11769   51.4792     C101        S    D   \n",
            "10    male  71.0000      0      0  PC 17609   49.5042      NaN        C  NaN   \n",
            "11    male  47.0000      1      0  PC 17757  227.5250  C62 C64        C  NaN   \n",
            "12  female  18.0000      1      0  PC 17757  227.5250  C62 C64        C    4   \n",
            "13  female  24.0000      0      0  PC 17477   69.3000      B35        C    9   \n",
            "14  female  26.0000      0      0     19877   78.8500      NaN        S    6   \n",
            "15    male  80.0000      0      0     27042   30.0000      A23        S    B   \n",
            "16    male      NaN      0      0  PC 17318   25.9250      NaN        S  NaN   \n",
            "17    male  24.0000      0      1  PC 17558  247.5208  B58 B60        C  NaN   \n",
            "18  female  50.0000      0      1  PC 17558  247.5208  B58 B60        C    6   \n",
            "19  female  32.0000      0      0     11813   76.2917      D15        C    8   \n",
            "20    male  36.0000      0      0     13050   75.2417       C6        C    A   \n",
            "\n",
            "     body                      home.dest  \n",
            "id                                        \n",
            "1     NaN                    St Louis,MO  \n",
            "2     NaN  Montreal,PQ / Chesterville,ON  \n",
            "3     NaN  Montreal,PQ / Chesterville,ON  \n",
            "4   135.0  Montreal,PQ / Chesterville,ON  \n",
            "5     NaN  Montreal,PQ / Chesterville,ON  \n",
            "6     NaN                    New York,NY  \n",
            "7     NaN                      Hudson,NY  \n",
            "8     NaN                     Belfast,NI  \n",
            "9     NaN              Bayside,Queens,NY  \n",
            "10   22.0             Montevideo,Uruguay  \n",
            "11  124.0                    New York,NY  \n",
            "12    NaN                    New York,NY  \n",
            "13    NaN                   Paris,France  \n",
            "14    NaN                            NaN  \n",
            "15    NaN                   Hessle,Yorks  \n",
            "16    NaN                    New York,NY  \n",
            "17    NaN                    Montreal,PQ  \n",
            "18    NaN                    Montreal,PQ  \n",
            "19    NaN                            NaN  \n",
            "20    NaN                    Winnipeg,MN  \n",
            "<class 'pandas.core.frame.DataFrame'>\n",
            "Int64Index: 1309 entries, 1 to 1309\n",
            "Data columns (total 14 columns):\n",
            " #   Column     Non-Null Count  Dtype  \n",
            "---  ------     --------------  -----  \n",
            " 0   pclass     1309 non-null   int64  \n",
            " 1   survived   1309 non-null   int64  \n",
            " 2   name       1309 non-null   object \n",
            " 3   sex        1309 non-null   object \n",
            " 4   age        1046 non-null   float64\n",
            " 5   sibsp      1309 non-null   int64  \n",
            " 6   parch      1309 non-null   int64  \n",
            " 7   ticket     1309 non-null   object \n",
            " 8   fare       1308 non-null   float64\n",
            " 9   cabin      295 non-null    object \n",
            " 10  embarked   1307 non-null   object \n",
            " 11  boat       486 non-null    object \n",
            " 12  body       121 non-null    float64\n",
            " 13  home.dest  745 non-null    object \n",
            "dtypes: float64(3), int64(4), object(7)\n",
            "memory usage: 153.4+ KB\n",
            "None\n"
          ]
        }
      ]
    },
    {
      "cell_type": "markdown",
      "source": [
        "1. wartości NA oznaczane są pytajnikami - w związku z tym dodaję do czytania pliku opcję na_values=\"?\"\n",
        "2. Niektóre kolumny są kategoryczne np. `survived`, `sex`\n",
        "3. Po dodaniu na_values niektóre kolumny zmieniły swój typ na int64 i float64 - to dobrze bo na logikę powinny mieć taki typ, aczkolwiek i tak należałoby sprawdzić i zmienić typy niektórych kolumn \n",
        "4. Jest wiele brakujących danych (już na pierwszy rzut oka) - trzeba będzie się im przyjrzeć\n",
        "5. Na titanicu było 1324 pasażerów, mamy 1309 wierszy danych co oznacza, że nasz zbiór jest w miare kompletny\n",
        "6. Można pozbyć się wielu kolumn np. `body` (nr identyfikacyjny ciała), `name`, `ticket`, `home.dest`"
      ],
      "metadata": {
        "id": "TMsaSPC3oItB"
      }
    },
    {
      "cell_type": "markdown",
      "source": [
        "## Zadanie 3"
      ],
      "metadata": {
        "id": "MuMx95HUoLos"
      }
    },
    {
      "cell_type": "code",
      "source": [
        "print(\"Ilość brakujących danych wg kolumn\")\n",
        "print(titanic.isnull().sum(),\"\\n\")\n",
        "print(\"Procent brakujących danych w poszczególnych kolumnach\")\n",
        "print(titanic.isnull().mean())"
      ],
      "metadata": {
        "colab": {
          "base_uri": "https://localhost:8080/"
        },
        "id": "tnS1ogysa2x5",
        "outputId": "069656c4-6fa1-4c69-f933-a19790a128dc"
      },
      "execution_count": null,
      "outputs": [
        {
          "output_type": "stream",
          "name": "stdout",
          "text": [
            "Ilość brakujących danych wg kolumn\n",
            "pclass          0\n",
            "survived        0\n",
            "name            0\n",
            "sex             0\n",
            "age           263\n",
            "sibsp           0\n",
            "parch           0\n",
            "ticket          0\n",
            "fare            1\n",
            "cabin        1014\n",
            "embarked        2\n",
            "boat          823\n",
            "body         1188\n",
            "home.dest     564\n",
            "dtype: int64 \n",
            "\n",
            "Procent brakujących danych w poszczególnych kolumnach\n",
            "pclass       0.000000\n",
            "survived     0.000000\n",
            "name         0.000000\n",
            "sex          0.000000\n",
            "age          0.200917\n",
            "sibsp        0.000000\n",
            "parch        0.000000\n",
            "ticket       0.000000\n",
            "fare         0.000764\n",
            "cabin        0.774637\n",
            "embarked     0.001528\n",
            "boat         0.628724\n",
            "body         0.907563\n",
            "home.dest    0.430863\n",
            "dtype: float64\n"
          ]
        }
      ]
    },
    {
      "cell_type": "markdown",
      "source": [
        "Zmienne `age`, `fare`, `cabin`, `embarked`, `boat`, `body` i `home.dest` zawierają wiele nulli, niektóre powyżej 60% - jest do dosyć dużo, na pewno należy przyjrzeć się przyczynie (zadanie następne). Niektóre kolumny są całkowicie znane."
      ],
      "metadata": {
        "id": "7TfkoZH_esUw"
      }
    },
    {
      "cell_type": "markdown",
      "source": [
        "## Zadanie 4"
      ],
      "metadata": {
        "id": "kCN3ik9To4iK"
      }
    },
    {
      "cell_type": "code",
      "source": [
        "titanic[\"ageNull\"] = np.where(titanic[\"age\"].isnull(), 1, 0)\n",
        "titanic[\"fareNull\"] = np.where(titanic[\"fare\"].isnull(), 1, 0)\n",
        "titanic[\"cabinNull\"] = np.where(titanic[\"cabin\"].isnull(), 1, 0)\n",
        "titanic[\"embarkedNull\"] = np.where(titanic[\"embarked\"].isnull(), 1, 0)\n",
        "titanic[\"boatNull\"] = np.where(titanic[\"boat\"].isnull(), 1, 0)\n",
        "titanic[\"bodyNull\"] = np.where(titanic[\"body\"].isnull(), 1, 0)\n",
        "titanic[\"homedestNull\"] = np.where(titanic[\"home.dest\"].isnull(), 1, 0)\n",
        "print(titanic.groupby(\"survived\")[\"ageNull\"].mean())\n",
        "print(titanic.groupby(\"survived\")[\"fareNull\"].mean())\n",
        "print(titanic.groupby(\"survived\")[\"cabinNull\"].mean())\n",
        "print(titanic.groupby(\"survived\")[\"embarkedNull\"].mean())\n",
        "print(titanic.groupby(\"survived\")[\"boatNull\"].mean())\n",
        "print(titanic.groupby(\"survived\")[\"bodyNull\"].mean())\n",
        "print(titanic.groupby(\"survived\")[\"homedestNull\"].mean())"
      ],
      "metadata": {
        "colab": {
          "base_uri": "https://localhost:8080/"
        },
        "id": "RKXdJqchfaQM",
        "outputId": "32be98e8-8d4d-4677-eda0-1965bcf03735"
      },
      "execution_count": null,
      "outputs": [
        {
          "output_type": "stream",
          "name": "stdout",
          "text": [
            "survived\n",
            "0    0.234858\n",
            "1    0.146000\n",
            "Name: ageNull, dtype: float64\n",
            "survived\n",
            "0    0.001236\n",
            "1    0.000000\n",
            "Name: fareNull, dtype: float64\n",
            "survived\n",
            "0    0.873918\n",
            "1    0.614000\n",
            "Name: cabinNull, dtype: float64\n",
            "survived\n",
            "0    0.000\n",
            "1    0.004\n",
            "Name: embarkedNull, dtype: float64\n",
            "survived\n",
            "0    0.988875\n",
            "1    0.046000\n",
            "Name: boatNull, dtype: float64\n",
            "survived\n",
            "0    0.850433\n",
            "1    1.000000\n",
            "Name: bodyNull, dtype: float64\n",
            "survived\n",
            "0    0.508035\n",
            "1    0.306000\n",
            "Name: homedestNull, dtype: float64\n"
          ]
        }
      ]
    },
    {
      "cell_type": "markdown",
      "source": [
        "1. kolumna `age` - MAR, ponieważ więcej danych brakuje dla osób które zginęły, prawdopodobnie te dane nie były zbierane przy kupnie biletu a później nie dotarto do szczegółowych informacji o tych osobach\n",
        "2. kolumna `fare` - MNAR, ponieważ brakuje informacji tylko dla osób które nie przeżyły, jest to jednak mniej niż 5% więc nie przejmujemy się tym\n",
        "3. kolumna `cabin` - MAR, ponieważ więcej informacji brakuje dla osób które nie przeżyły, stosunek procentowy nie jest jednak wielki; numer kabiny nie jest szczególnie istotny, jednak da się z niego wyciągnąć informację o pokładzie co jest informacją bardzo istotną.\n",
        "4. kolumna `embarked` - MCAR, mniej niż 5%, co prawda więcej informacji brakuje dla osób z jednej grupy (tych które przeżyły) ale jest to na tyle mała różnica że możemy uznać że danych brakuje całkowicie losowo\n",
        "5. kolumna `boat` - MNAR, osoby którym nie udało się dostać na szalupę nie będą miały jej zapisanej, 4% osób które przeżyły również nie ma jej wpisanej - prawdopodobnie zostały wyłowione z wody\n",
        "6. kolumna `body` - MNAR, nie wszyscy zginęli, więc nie zostały im nadane numery identyfikacyjne dla ciał; wielu ciał nie odnaleziono\n",
        "7. kolumna `home.dest` - MAR - brakuje danych zarówno dla osób które przeżyły jak i nie, więcej danych brakuje jednak dla osób które nie przeżyły - nie można ich było dopytać o to; więcej danych brakuje dla osób podróżujących 3 klasą - jest to efekt zarówno faktu że większość z nich nie przeżyła jak i faktu że takimi osobami przed podróżą niezbyt mocno się interesowano"
      ],
      "metadata": {
        "id": "WD6g9ee7ch9l"
      }
    },
    {
      "cell_type": "markdown",
      "source": [
        "## Zadanie 5\n",
        "1. Dla cech w których brakuje mniej niż 5% danych - można spokojnie je usunąć gdyż nie jest to zbyt dużo wartości żeby się nimi przejmować. (`fare` i `embarked`).\n",
        "2. Dla kolumny `age` - można wypełnić średnią, np. z uwzględnieniem płci i klasy\n",
        "3. Dla kolumny `cabin` - Można wypełnić losowymi danymi dla osób z tej samej klasy (zakładamy że kabiny dla poszczególnych klas są na tym samym pokładzie statku a to jest prawdopodobnie najważniejsza informacja związana z przeżyciem - osoba mieszkająca na najniższym pokładzie ma w środku nocy mniejsze szanse na wydostanie się na zewnątrz niż osoba będąca na pokładzie blisko poziomu morza).\n",
        "4. Dla kolumny `boat` - możemy uzupełnić pewną zadedykowaną wartością oznaczającą, że ta osoba nie dostała się na szalupę ratunkową, np. 0\n",
        "5. Dla kolumny `body` - tutaj również nie da się tego w żaden sensowny sposób wypełnić, albo należy dać dedykowane wartości oznaczone \"not found\" - dla osób zmarłych i \"not relevant\" dla osób które przeżyły. Można również całkowicie pozbyć się tej kolumny - nie wnosi ona zbyt wielu informacji, mogłaby powodować przetrenowanie modelu.\n",
        "6. Dla kolumny `home.dest` - można wypełnić losowymi innymi danymi lub również pozbyć się tej kolumny, nie jest ona szczególnie ważna"
      ],
      "metadata": {
        "id": "i5-UBgiLj9Hv"
      }
    },
    {
      "cell_type": "markdown",
      "source": [
        "# Ćwiczenie 2"
      ],
      "metadata": {
        "id": "xN6IE_lVm7S1"
      }
    },
    {
      "cell_type": "markdown",
      "source": [
        "## Zadanie 1"
      ],
      "metadata": {
        "id": "Jq4yAENRTUzJ"
      }
    },
    {
      "cell_type": "code",
      "source": [
        "# 'pclass', 'survived', 'name', 'sex', 'age', 'sibsp', 'parch','ticket', 'fare', 'cabin', 'embarked', 'boat', 'body', 'home.dest'\n",
        "print(f'Liczba etykiet zmiennej \"pclass\" (klasa): {len(titanic.pclass.unique())}')\n",
        "print(f'Liczba etykiet zmiennej \"survived\" (czy przeżył): {len(titanic.survived.unique())}')\n",
        "print(f'Liczba etykiet zmiennej \"name\" (imię): {len(titanic.name.unique())}')\n",
        "print(f'Liczba etykiet zmiennej \"sex\" (płeć): {len(titanic.sex.unique())}')\n",
        "print(f'Liczba etykiet zmiennej \"sibsp\": {len(titanic.sibsp.unique())}')\n",
        "print(f'Liczba etykiet zmiennej \"parch\": {len(titanic.parch.unique())}')\n",
        "print(f'Liczba etykiet zmiennej \"ticket\" (nr biletu): {len(titanic.ticket.unique())}')\n",
        "print(f'Liczba etykiet zmiennej \"cabin\" (nr kabiny): {len(titanic.cabin.unique())}')\n",
        "print(f'Liczba etykiet zmiennej \"embarked\" (gdzie wsiadł): {len(titanic.embarked.unique())}')\n",
        "print(f'Liczba etykiet zmiennej \"boat\" (nr szalupy ratunkowej): {len(titanic.boat.unique())}')\n",
        "print(f'Liczba etykiet zmiennej \"body\" (nr identyfikacyjny ciała): {len(titanic.body.unique())}')\n",
        "print(f'Liczba etykiet zmiennej \"home.dest\" (cel podróży): {len(titanic[\"home.dest\"].unique())}')"
      ],
      "metadata": {
        "colab": {
          "base_uri": "https://localhost:8080/"
        },
        "id": "XHBpc20jm-Ri",
        "outputId": "026424ff-c77a-4149-d0a4-2a182551f926"
      },
      "execution_count": null,
      "outputs": [
        {
          "output_type": "stream",
          "name": "stdout",
          "text": [
            "Liczba etykiet zmiennej \"pclass\" (klasa): 3\n",
            "Liczba etykiet zmiennej \"survived\" (czy przeżył): 2\n",
            "Liczba etykiet zmiennej \"name\" (imię): 1307\n",
            "Liczba etykiet zmiennej \"sex\" (płeć): 2\n",
            "Liczba etykiet zmiennej \"sibsp\": 7\n",
            "Liczba etykiet zmiennej \"parch\": 8\n",
            "Liczba etykiet zmiennej \"ticket\" (nr biletu): 929\n",
            "Liczba etykiet zmiennej \"cabin\" (nr kabiny): 187\n",
            "Liczba etykiet zmiennej \"embarked\" (gdzie wsiadł): 4\n",
            "Liczba etykiet zmiennej \"boat\" (nr szalupy ratunkowej): 28\n",
            "Liczba etykiet zmiennej \"body\" (nr identyfikacyjny ciała): 122\n",
            "Liczba etykiet zmiennej \"home.dest\" (cel podróży): 370\n"
          ]
        }
      ]
    },
    {
      "cell_type": "markdown",
      "source": [
        "## Zadanie 2"
      ],
      "metadata": {
        "id": "uey9CmKvTWdF"
      }
    },
    {
      "cell_type": "code",
      "source": [
        "print(f'Ilość wszystkich pasażerów: {len(titanic)}')"
      ],
      "metadata": {
        "colab": {
          "base_uri": "https://localhost:8080/"
        },
        "id": "nyxmwCtJSODG",
        "outputId": "27aab404-a6aa-4aa1-c0d2-125aead80342"
      },
      "execution_count": null,
      "outputs": [
        {
          "output_type": "stream",
          "name": "stdout",
          "text": [
            "Ilość wszystkich pasażerów: 1309\n"
          ]
        }
      ]
    },
    {
      "cell_type": "markdown",
      "source": [
        "## Zadanie 3\n",
        "Wnioski:\n",
        "* Mając 1309 pasażerów widzimy, że w dwóch przypadkach powtórzyło się to samo imię i nazwisko, lub dwukrotnie zapisano tą samą osobę\n",
        "* Z poprzednich zadań wiemy, że posiadamy wszystkie informacje o biletach, więc średnio na jednym bilecie płynęło 1,4 osoby. Prawdopodobnie osoby z tego samego biletu to najbliższa rodzina i albo obie osoby przeżyły albo żadna - może to być ważna informacja.\n",
        "* Mamy dwie zmienne które można uznać za binarne - `survived` (wartości 0 i 1) oraz `sex` (wartości female i male)\n",
        "* Zmienne o małej kardynalności, które można bez problemu zapisać używając one-hot encodingu to: `pclass`, `sibsp`, `parch` i `embarked`. Można też do tego zbioru zaliczyć cechy `survived` i `sex`.\n",
        "* Zmienne o dużej kardynalności to wszystkie pozostałe, przy czym zmienną `name` nie powinnyśmy i tak się zajmować, gdyż zawiera (praktycznie) unikatowe dane dla każdego pasażera.\n",
        "\n",
        "\n"
      ],
      "metadata": {
        "id": "ERYv_l3ETpJi"
      }
    },
    {
      "cell_type": "markdown",
      "source": [
        "## Zadanie 4"
      ],
      "metadata": {
        "id": "hhAGV8xjTkoP"
      }
    },
    {
      "cell_type": "code",
      "source": [
        "titanic['cabin'] = titanic.cabin.astype('string')\n",
        "unique, counts = np.unique(titanic[~titanic['cabin'].isnull()].cabin,\n",
        "                           return_counts=True)\n",
        "print(f'Ilość unikatowych etykiet: {len(unique)}')"
      ],
      "metadata": {
        "colab": {
          "base_uri": "https://localhost:8080/"
        },
        "id": "ADAbF2EiXvVs",
        "outputId": "6e15ec6e-dcd0-4118-d21e-fae87c224c10"
      },
      "execution_count": null,
      "outputs": [
        {
          "output_type": "stream",
          "name": "stdout",
          "text": [
            "Ilość unikatowych etykiet: 186\n"
          ]
        }
      ]
    },
    {
      "cell_type": "markdown",
      "source": [
        "NumPy array to tablica, może być wielowymiarowa, w której wszystkie wartości są tego samego typu. Jeśli część danych byłaby typu int, a część float to nastąpi rzutowanie na bardziej ogólny typ danych (w tym przypadku na float). Z tego powodu obliczenia na ndarray będą szybsze niż na DataFrame, ale mogą być trudniejsze \"myśleniowo\". W obiekcie typu DataFrame każda kolumna może mieć inny typ, dane wyświetlane sa również automatycznie w sposób bardziej przejrzysty i są łatwiejsze do zrozumienia."
      ],
      "metadata": {
        "id": "HzL308utZLa_"
      }
    },
    {
      "cell_type": "markdown",
      "source": [
        "## Zadanie 5"
      ],
      "metadata": {
        "id": "OwWmqoV8ae79"
      }
    },
    {
      "cell_type": "code",
      "source": [
        "# Dla osób które nie posiadają przypisanej kabiny ustawiamy wartość kabiny 'N'\n",
        "titanic['cabinReduced'] = titanic.cabin.fillna('N').str[0]\n",
        "titanic[['cabin', 'cabinReduced']].head(20)"
      ],
      "metadata": {
        "colab": {
          "base_uri": "https://localhost:8080/",
          "height": 707
        },
        "id": "CBk8OxxTZKyA",
        "outputId": "620bd69c-7b7e-4be0-e228-820c3262dbca"
      },
      "execution_count": null,
      "outputs": [
        {
          "output_type": "execute_result",
          "data": {
            "text/plain": [
              "      cabin cabinReduced\n",
              "id                      \n",
              "1        B5            B\n",
              "2   C22 C26            C\n",
              "3   C22 C26            C\n",
              "4   C22 C26            C\n",
              "5   C22 C26            C\n",
              "6       E12            E\n",
              "7        D7            D\n",
              "8       A36            A\n",
              "9      C101            C\n",
              "10     <NA>            N\n",
              "11  C62 C64            C\n",
              "12  C62 C64            C\n",
              "13      B35            B\n",
              "14     <NA>            N\n",
              "15      A23            A\n",
              "16     <NA>            N\n",
              "17  B58 B60            B\n",
              "18  B58 B60            B\n",
              "19      D15            D\n",
              "20       C6            C"
            ],
            "text/html": [
              "\n",
              "  <div id=\"df-3bca7d9f-6248-41cd-a8a6-132013e713e2\">\n",
              "    <div class=\"colab-df-container\">\n",
              "      <div>\n",
              "<style scoped>\n",
              "    .dataframe tbody tr th:only-of-type {\n",
              "        vertical-align: middle;\n",
              "    }\n",
              "\n",
              "    .dataframe tbody tr th {\n",
              "        vertical-align: top;\n",
              "    }\n",
              "\n",
              "    .dataframe thead th {\n",
              "        text-align: right;\n",
              "    }\n",
              "</style>\n",
              "<table border=\"1\" class=\"dataframe\">\n",
              "  <thead>\n",
              "    <tr style=\"text-align: right;\">\n",
              "      <th></th>\n",
              "      <th>cabin</th>\n",
              "      <th>cabinReduced</th>\n",
              "    </tr>\n",
              "    <tr>\n",
              "      <th>id</th>\n",
              "      <th></th>\n",
              "      <th></th>\n",
              "    </tr>\n",
              "  </thead>\n",
              "  <tbody>\n",
              "    <tr>\n",
              "      <th>1</th>\n",
              "      <td>B5</td>\n",
              "      <td>B</td>\n",
              "    </tr>\n",
              "    <tr>\n",
              "      <th>2</th>\n",
              "      <td>C22 C26</td>\n",
              "      <td>C</td>\n",
              "    </tr>\n",
              "    <tr>\n",
              "      <th>3</th>\n",
              "      <td>C22 C26</td>\n",
              "      <td>C</td>\n",
              "    </tr>\n",
              "    <tr>\n",
              "      <th>4</th>\n",
              "      <td>C22 C26</td>\n",
              "      <td>C</td>\n",
              "    </tr>\n",
              "    <tr>\n",
              "      <th>5</th>\n",
              "      <td>C22 C26</td>\n",
              "      <td>C</td>\n",
              "    </tr>\n",
              "    <tr>\n",
              "      <th>6</th>\n",
              "      <td>E12</td>\n",
              "      <td>E</td>\n",
              "    </tr>\n",
              "    <tr>\n",
              "      <th>7</th>\n",
              "      <td>D7</td>\n",
              "      <td>D</td>\n",
              "    </tr>\n",
              "    <tr>\n",
              "      <th>8</th>\n",
              "      <td>A36</td>\n",
              "      <td>A</td>\n",
              "    </tr>\n",
              "    <tr>\n",
              "      <th>9</th>\n",
              "      <td>C101</td>\n",
              "      <td>C</td>\n",
              "    </tr>\n",
              "    <tr>\n",
              "      <th>10</th>\n",
              "      <td>&lt;NA&gt;</td>\n",
              "      <td>N</td>\n",
              "    </tr>\n",
              "    <tr>\n",
              "      <th>11</th>\n",
              "      <td>C62 C64</td>\n",
              "      <td>C</td>\n",
              "    </tr>\n",
              "    <tr>\n",
              "      <th>12</th>\n",
              "      <td>C62 C64</td>\n",
              "      <td>C</td>\n",
              "    </tr>\n",
              "    <tr>\n",
              "      <th>13</th>\n",
              "      <td>B35</td>\n",
              "      <td>B</td>\n",
              "    </tr>\n",
              "    <tr>\n",
              "      <th>14</th>\n",
              "      <td>&lt;NA&gt;</td>\n",
              "      <td>N</td>\n",
              "    </tr>\n",
              "    <tr>\n",
              "      <th>15</th>\n",
              "      <td>A23</td>\n",
              "      <td>A</td>\n",
              "    </tr>\n",
              "    <tr>\n",
              "      <th>16</th>\n",
              "      <td>&lt;NA&gt;</td>\n",
              "      <td>N</td>\n",
              "    </tr>\n",
              "    <tr>\n",
              "      <th>17</th>\n",
              "      <td>B58 B60</td>\n",
              "      <td>B</td>\n",
              "    </tr>\n",
              "    <tr>\n",
              "      <th>18</th>\n",
              "      <td>B58 B60</td>\n",
              "      <td>B</td>\n",
              "    </tr>\n",
              "    <tr>\n",
              "      <th>19</th>\n",
              "      <td>D15</td>\n",
              "      <td>D</td>\n",
              "    </tr>\n",
              "    <tr>\n",
              "      <th>20</th>\n",
              "      <td>C6</td>\n",
              "      <td>C</td>\n",
              "    </tr>\n",
              "  </tbody>\n",
              "</table>\n",
              "</div>\n",
              "      <button class=\"colab-df-convert\" onclick=\"convertToInteractive('df-3bca7d9f-6248-41cd-a8a6-132013e713e2')\"\n",
              "              title=\"Convert this dataframe to an interactive table.\"\n",
              "              style=\"display:none;\">\n",
              "        \n",
              "  <svg xmlns=\"http://www.w3.org/2000/svg\" height=\"24px\"viewBox=\"0 0 24 24\"\n",
              "       width=\"24px\">\n",
              "    <path d=\"M0 0h24v24H0V0z\" fill=\"none\"/>\n",
              "    <path d=\"M18.56 5.44l.94 2.06.94-2.06 2.06-.94-2.06-.94-.94-2.06-.94 2.06-2.06.94zm-11 1L8.5 8.5l.94-2.06 2.06-.94-2.06-.94L8.5 2.5l-.94 2.06-2.06.94zm10 10l.94 2.06.94-2.06 2.06-.94-2.06-.94-.94-2.06-.94 2.06-2.06.94z\"/><path d=\"M17.41 7.96l-1.37-1.37c-.4-.4-.92-.59-1.43-.59-.52 0-1.04.2-1.43.59L10.3 9.45l-7.72 7.72c-.78.78-.78 2.05 0 2.83L4 21.41c.39.39.9.59 1.41.59.51 0 1.02-.2 1.41-.59l7.78-7.78 2.81-2.81c.8-.78.8-2.07 0-2.86zM5.41 20L4 18.59l7.72-7.72 1.47 1.35L5.41 20z\"/>\n",
              "  </svg>\n",
              "      </button>\n",
              "      \n",
              "  <style>\n",
              "    .colab-df-container {\n",
              "      display:flex;\n",
              "      flex-wrap:wrap;\n",
              "      gap: 12px;\n",
              "    }\n",
              "\n",
              "    .colab-df-convert {\n",
              "      background-color: #E8F0FE;\n",
              "      border: none;\n",
              "      border-radius: 50%;\n",
              "      cursor: pointer;\n",
              "      display: none;\n",
              "      fill: #1967D2;\n",
              "      height: 32px;\n",
              "      padding: 0 0 0 0;\n",
              "      width: 32px;\n",
              "    }\n",
              "\n",
              "    .colab-df-convert:hover {\n",
              "      background-color: #E2EBFA;\n",
              "      box-shadow: 0px 1px 2px rgba(60, 64, 67, 0.3), 0px 1px 3px 1px rgba(60, 64, 67, 0.15);\n",
              "      fill: #174EA6;\n",
              "    }\n",
              "\n",
              "    [theme=dark] .colab-df-convert {\n",
              "      background-color: #3B4455;\n",
              "      fill: #D2E3FC;\n",
              "    }\n",
              "\n",
              "    [theme=dark] .colab-df-convert:hover {\n",
              "      background-color: #434B5C;\n",
              "      box-shadow: 0px 1px 3px 1px rgba(0, 0, 0, 0.15);\n",
              "      filter: drop-shadow(0px 1px 2px rgba(0, 0, 0, 0.3));\n",
              "      fill: #FFFFFF;\n",
              "    }\n",
              "  </style>\n",
              "\n",
              "      <script>\n",
              "        const buttonEl =\n",
              "          document.querySelector('#df-3bca7d9f-6248-41cd-a8a6-132013e713e2 button.colab-df-convert');\n",
              "        buttonEl.style.display =\n",
              "          google.colab.kernel.accessAllowed ? 'block' : 'none';\n",
              "\n",
              "        async function convertToInteractive(key) {\n",
              "          const element = document.querySelector('#df-3bca7d9f-6248-41cd-a8a6-132013e713e2');\n",
              "          const dataTable =\n",
              "            await google.colab.kernel.invokeFunction('convertToInteractive',\n",
              "                                                     [key], {});\n",
              "          if (!dataTable) return;\n",
              "\n",
              "          const docLinkHtml = 'Like what you see? Visit the ' +\n",
              "            '<a target=\"_blank\" href=https://colab.research.google.com/notebooks/data_table.ipynb>data table notebook</a>'\n",
              "            + ' to learn more about interactive tables.';\n",
              "          element.innerHTML = '';\n",
              "          dataTable['output_type'] = 'display_data';\n",
              "          await google.colab.output.renderOutput(dataTable, element);\n",
              "          const docLink = document.createElement('div');\n",
              "          docLink.innerHTML = docLinkHtml;\n",
              "          element.appendChild(docLink);\n",
              "        }\n",
              "      </script>\n",
              "    </div>\n",
              "  </div>\n",
              "  "
            ]
          },
          "metadata": {},
          "execution_count": 11
        }
      ]
    },
    {
      "cell_type": "markdown",
      "source": [
        "## Zadanie 6"
      ],
      "metadata": {
        "id": "aGtbXuQse96V"
      }
    },
    {
      "cell_type": "code",
      "source": [
        "n_original = len(titanic.cabin.unique())\n",
        "n_reduced = len(titanic.cabinReduced.unique())\n",
        "print(f'Liczba etykiet zmiennej \"cabin\" (nr kabiny): {n_original}')\n",
        "print(f'Liczba etykiet zmiennej \"cabinReduced\" (nr kabiny po redukcji): {n_reduced}')\n",
        "print(f'Zredukowano kardynalność zbioru o {np.round((n_original-n_reduced)/n_original*100,2)}%')"
      ],
      "metadata": {
        "colab": {
          "base_uri": "https://localhost:8080/"
        },
        "id": "jmm_XIkSdxUD",
        "outputId": "7f33b867-6d4d-420c-b041-15bc53069324"
      },
      "execution_count": null,
      "outputs": [
        {
          "output_type": "stream",
          "name": "stdout",
          "text": [
            "Liczba etykiet zmiennej \"cabin\" (nr kabiny): 187\n",
            "Liczba etykiet zmiennej \"cabinReduced\" (nr kabiny po redukcji): 9\n",
            "Zredukowano kardynalność zbioru o 95.19%\n"
          ]
        }
      ]
    },
    {
      "cell_type": "markdown",
      "source": [
        "# Zadanie 7"
      ],
      "metadata": {
        "id": "MATuptTkeyiB"
      }
    },
    {
      "cell_type": "markdown",
      "source": [
        "* Tak jak pisałam w zadaniach 4 i 5 z poprzedniego ćwiczenia - pierwsza litera prawdopodobnie oznacza, pokład co jest bardzo istotną informacją z punktu widzenia osób próbujących wydostać się z tonącego statku. \n",
        "* Zmniejszenie ilości etykiet o 95% jest bardzo korzystne, a w tym przypadku dodatkowo wydaje się, że nie tracimy przy tym zbyt wielu informacji.\n",
        "* W przyszłych analizach, po użyciu one-hot encodingu, możemy zaoszczędzić ogromną ilość miejsca, ponieważ dostaniemy jedynie 7 lub 8 nowych kolumn zamiast około 180.\n",
        "* Należy jednak pamiętać, że wciąż prawie 70% danych w tej kolumnie jest wartościami NaN i należy wcześniej poradzić sobie z tymi brakującymi danymi (zadanie 5 punkt 3)\n",
        "* Negatywnym skutkiem jest na pewno utracenie części danych, bo np. kolejne litery/cyfry mogłyby nam powiedzieć jak daleko kabina znajdowała się od schodów za pomocą których można się ewakuować, ale tak duże zmniejszenie kardynalności tego zbioru to rekompensuje - wciąż mamy wiele innych danych do modelowania których możemy użyć tym bardziej, że nie znamy wielu danych w tej kolumnie"
      ],
      "metadata": {
        "id": "GXUNHeqqfAAp"
      }
    },
    {
      "cell_type": "code",
      "source": [
        "titanic.to_csv('titanic_better.csv')"
      ],
      "metadata": {
        "id": "2xpxvgtlT8Wo"
      },
      "execution_count": null,
      "outputs": []
    }
  ]
}