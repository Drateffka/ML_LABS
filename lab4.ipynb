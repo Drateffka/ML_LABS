{
  "nbformat": 4,
  "nbformat_minor": 0,
  "metadata": {
    "colab": {
      "provenance": []
    },
    "kernelspec": {
      "name": "python3",
      "display_name": "Python 3"
    },
    "language_info": {
      "name": "python"
    }
  },
  "cells": [
    {
      "cell_type": "code",
      "execution_count": null,
      "metadata": {
        "id": "kQ4_w_FiURd3"
      },
      "outputs": [],
      "source": [
        "import pandas as pd\n",
        "import numpy as np\n",
        "from sklearn.model_selection import train_test_split"
      ]
    },
    {
      "cell_type": "markdown",
      "source": [
        "## Zadanie 1"
      ],
      "metadata": {
        "id": "HZfodpNkUuUo"
      }
    },
    {
      "cell_type": "code",
      "source": [
        "titanic = pd.read_csv('titanic_better.csv')\n",
        "# Zamiana wartości N w kolumnie cabinReduced na nan\n",
        "# ponieważ na poprzednich zajęciach tak oznaczyłam wartości brakujące\n",
        "titanic['cabinReduced'] = titanic.cabinReduced.replace({'N': np.nan}) \n",
        "titanic.head()"
      ],
      "metadata": {
        "colab": {
          "base_uri": "https://localhost:8080/",
          "height": 490
        },
        "id": "5wLidD4dUUvA",
        "outputId": "7a24236b-0063-450c-f665-8f302206808d"
      },
      "execution_count": null,
      "outputs": [
        {
          "output_type": "execute_result",
          "data": {
            "text/plain": [
              "   id  pclass  survived                                            name  \\\n",
              "0   1       1         1                    Allen,Miss. Elisabeth Walton   \n",
              "1   2       1         1                   Allison,Master. Hudson Trevor   \n",
              "2   3       1         0                     Allison,Miss. Helen Loraine   \n",
              "3   4       1         0             Allison,Mr. Hudson Joshua Creighton   \n",
              "4   5       1         0  Allison,Mrs. Hudson J C (Bessie Waldo Daniels)   \n",
              "\n",
              "      sex      age  sibsp  parch  ticket      fare  ...   body  \\\n",
              "0  female  29.0000      0      0   24160  211.3375  ...    NaN   \n",
              "1    male   0.9167      1      2  113781  151.5500  ...    NaN   \n",
              "2  female   2.0000      1      2  113781  151.5500  ...    NaN   \n",
              "3    male  30.0000      1      2  113781  151.5500  ...  135.0   \n",
              "4  female  25.0000      1      2  113781  151.5500  ...    NaN   \n",
              "\n",
              "                       home.dest ageNull  fareNull cabinNull  embarkedNull  \\\n",
              "0                    St Louis,MO       0         0         0             0   \n",
              "1  Montreal,PQ / Chesterville,ON       0         0         0             0   \n",
              "2  Montreal,PQ / Chesterville,ON       0         0         0             0   \n",
              "3  Montreal,PQ / Chesterville,ON       0         0         0             0   \n",
              "4  Montreal,PQ / Chesterville,ON       0         0         0             0   \n",
              "\n",
              "   boatNull  bodyNull  homedestNull  cabinReduced  \n",
              "0         0         1             0             B  \n",
              "1         0         1             0             C  \n",
              "2         1         1             0             C  \n",
              "3         1         0             0             C  \n",
              "4         1         1             0             C  \n",
              "\n",
              "[5 rows x 23 columns]"
            ],
            "text/html": [
              "\n",
              "  <div id=\"df-0608c598-5883-42a6-a76b-f92044cf3834\">\n",
              "    <div class=\"colab-df-container\">\n",
              "      <div>\n",
              "<style scoped>\n",
              "    .dataframe tbody tr th:only-of-type {\n",
              "        vertical-align: middle;\n",
              "    }\n",
              "\n",
              "    .dataframe tbody tr th {\n",
              "        vertical-align: top;\n",
              "    }\n",
              "\n",
              "    .dataframe thead th {\n",
              "        text-align: right;\n",
              "    }\n",
              "</style>\n",
              "<table border=\"1\" class=\"dataframe\">\n",
              "  <thead>\n",
              "    <tr style=\"text-align: right;\">\n",
              "      <th></th>\n",
              "      <th>id</th>\n",
              "      <th>pclass</th>\n",
              "      <th>survived</th>\n",
              "      <th>name</th>\n",
              "      <th>sex</th>\n",
              "      <th>age</th>\n",
              "      <th>sibsp</th>\n",
              "      <th>parch</th>\n",
              "      <th>ticket</th>\n",
              "      <th>fare</th>\n",
              "      <th>...</th>\n",
              "      <th>body</th>\n",
              "      <th>home.dest</th>\n",
              "      <th>ageNull</th>\n",
              "      <th>fareNull</th>\n",
              "      <th>cabinNull</th>\n",
              "      <th>embarkedNull</th>\n",
              "      <th>boatNull</th>\n",
              "      <th>bodyNull</th>\n",
              "      <th>homedestNull</th>\n",
              "      <th>cabinReduced</th>\n",
              "    </tr>\n",
              "  </thead>\n",
              "  <tbody>\n",
              "    <tr>\n",
              "      <th>0</th>\n",
              "      <td>1</td>\n",
              "      <td>1</td>\n",
              "      <td>1</td>\n",
              "      <td>Allen,Miss. Elisabeth Walton</td>\n",
              "      <td>female</td>\n",
              "      <td>29.0000</td>\n",
              "      <td>0</td>\n",
              "      <td>0</td>\n",
              "      <td>24160</td>\n",
              "      <td>211.3375</td>\n",
              "      <td>...</td>\n",
              "      <td>NaN</td>\n",
              "      <td>St Louis,MO</td>\n",
              "      <td>0</td>\n",
              "      <td>0</td>\n",
              "      <td>0</td>\n",
              "      <td>0</td>\n",
              "      <td>0</td>\n",
              "      <td>1</td>\n",
              "      <td>0</td>\n",
              "      <td>B</td>\n",
              "    </tr>\n",
              "    <tr>\n",
              "      <th>1</th>\n",
              "      <td>2</td>\n",
              "      <td>1</td>\n",
              "      <td>1</td>\n",
              "      <td>Allison,Master. Hudson Trevor</td>\n",
              "      <td>male</td>\n",
              "      <td>0.9167</td>\n",
              "      <td>1</td>\n",
              "      <td>2</td>\n",
              "      <td>113781</td>\n",
              "      <td>151.5500</td>\n",
              "      <td>...</td>\n",
              "      <td>NaN</td>\n",
              "      <td>Montreal,PQ / Chesterville,ON</td>\n",
              "      <td>0</td>\n",
              "      <td>0</td>\n",
              "      <td>0</td>\n",
              "      <td>0</td>\n",
              "      <td>0</td>\n",
              "      <td>1</td>\n",
              "      <td>0</td>\n",
              "      <td>C</td>\n",
              "    </tr>\n",
              "    <tr>\n",
              "      <th>2</th>\n",
              "      <td>3</td>\n",
              "      <td>1</td>\n",
              "      <td>0</td>\n",
              "      <td>Allison,Miss. Helen Loraine</td>\n",
              "      <td>female</td>\n",
              "      <td>2.0000</td>\n",
              "      <td>1</td>\n",
              "      <td>2</td>\n",
              "      <td>113781</td>\n",
              "      <td>151.5500</td>\n",
              "      <td>...</td>\n",
              "      <td>NaN</td>\n",
              "      <td>Montreal,PQ / Chesterville,ON</td>\n",
              "      <td>0</td>\n",
              "      <td>0</td>\n",
              "      <td>0</td>\n",
              "      <td>0</td>\n",
              "      <td>1</td>\n",
              "      <td>1</td>\n",
              "      <td>0</td>\n",
              "      <td>C</td>\n",
              "    </tr>\n",
              "    <tr>\n",
              "      <th>3</th>\n",
              "      <td>4</td>\n",
              "      <td>1</td>\n",
              "      <td>0</td>\n",
              "      <td>Allison,Mr. Hudson Joshua Creighton</td>\n",
              "      <td>male</td>\n",
              "      <td>30.0000</td>\n",
              "      <td>1</td>\n",
              "      <td>2</td>\n",
              "      <td>113781</td>\n",
              "      <td>151.5500</td>\n",
              "      <td>...</td>\n",
              "      <td>135.0</td>\n",
              "      <td>Montreal,PQ / Chesterville,ON</td>\n",
              "      <td>0</td>\n",
              "      <td>0</td>\n",
              "      <td>0</td>\n",
              "      <td>0</td>\n",
              "      <td>1</td>\n",
              "      <td>0</td>\n",
              "      <td>0</td>\n",
              "      <td>C</td>\n",
              "    </tr>\n",
              "    <tr>\n",
              "      <th>4</th>\n",
              "      <td>5</td>\n",
              "      <td>1</td>\n",
              "      <td>0</td>\n",
              "      <td>Allison,Mrs. Hudson J C (Bessie Waldo Daniels)</td>\n",
              "      <td>female</td>\n",
              "      <td>25.0000</td>\n",
              "      <td>1</td>\n",
              "      <td>2</td>\n",
              "      <td>113781</td>\n",
              "      <td>151.5500</td>\n",
              "      <td>...</td>\n",
              "      <td>NaN</td>\n",
              "      <td>Montreal,PQ / Chesterville,ON</td>\n",
              "      <td>0</td>\n",
              "      <td>0</td>\n",
              "      <td>0</td>\n",
              "      <td>0</td>\n",
              "      <td>1</td>\n",
              "      <td>1</td>\n",
              "      <td>0</td>\n",
              "      <td>C</td>\n",
              "    </tr>\n",
              "  </tbody>\n",
              "</table>\n",
              "<p>5 rows × 23 columns</p>\n",
              "</div>\n",
              "      <button class=\"colab-df-convert\" onclick=\"convertToInteractive('df-0608c598-5883-42a6-a76b-f92044cf3834')\"\n",
              "              title=\"Convert this dataframe to an interactive table.\"\n",
              "              style=\"display:none;\">\n",
              "        \n",
              "  <svg xmlns=\"http://www.w3.org/2000/svg\" height=\"24px\"viewBox=\"0 0 24 24\"\n",
              "       width=\"24px\">\n",
              "    <path d=\"M0 0h24v24H0V0z\" fill=\"none\"/>\n",
              "    <path d=\"M18.56 5.44l.94 2.06.94-2.06 2.06-.94-2.06-.94-.94-2.06-.94 2.06-2.06.94zm-11 1L8.5 8.5l.94-2.06 2.06-.94-2.06-.94L8.5 2.5l-.94 2.06-2.06.94zm10 10l.94 2.06.94-2.06 2.06-.94-2.06-.94-.94-2.06-.94 2.06-2.06.94z\"/><path d=\"M17.41 7.96l-1.37-1.37c-.4-.4-.92-.59-1.43-.59-.52 0-1.04.2-1.43.59L10.3 9.45l-7.72 7.72c-.78.78-.78 2.05 0 2.83L4 21.41c.39.39.9.59 1.41.59.51 0 1.02-.2 1.41-.59l7.78-7.78 2.81-2.81c.8-.78.8-2.07 0-2.86zM5.41 20L4 18.59l7.72-7.72 1.47 1.35L5.41 20z\"/>\n",
              "  </svg>\n",
              "      </button>\n",
              "      \n",
              "  <style>\n",
              "    .colab-df-container {\n",
              "      display:flex;\n",
              "      flex-wrap:wrap;\n",
              "      gap: 12px;\n",
              "    }\n",
              "\n",
              "    .colab-df-convert {\n",
              "      background-color: #E8F0FE;\n",
              "      border: none;\n",
              "      border-radius: 50%;\n",
              "      cursor: pointer;\n",
              "      display: none;\n",
              "      fill: #1967D2;\n",
              "      height: 32px;\n",
              "      padding: 0 0 0 0;\n",
              "      width: 32px;\n",
              "    }\n",
              "\n",
              "    .colab-df-convert:hover {\n",
              "      background-color: #E2EBFA;\n",
              "      box-shadow: 0px 1px 2px rgba(60, 64, 67, 0.3), 0px 1px 3px 1px rgba(60, 64, 67, 0.15);\n",
              "      fill: #174EA6;\n",
              "    }\n",
              "\n",
              "    [theme=dark] .colab-df-convert {\n",
              "      background-color: #3B4455;\n",
              "      fill: #D2E3FC;\n",
              "    }\n",
              "\n",
              "    [theme=dark] .colab-df-convert:hover {\n",
              "      background-color: #434B5C;\n",
              "      box-shadow: 0px 1px 3px 1px rgba(0, 0, 0, 0.15);\n",
              "      filter: drop-shadow(0px 1px 2px rgba(0, 0, 0, 0.3));\n",
              "      fill: #FFFFFF;\n",
              "    }\n",
              "  </style>\n",
              "\n",
              "      <script>\n",
              "        const buttonEl =\n",
              "          document.querySelector('#df-0608c598-5883-42a6-a76b-f92044cf3834 button.colab-df-convert');\n",
              "        buttonEl.style.display =\n",
              "          google.colab.kernel.accessAllowed ? 'block' : 'none';\n",
              "\n",
              "        async function convertToInteractive(key) {\n",
              "          const element = document.querySelector('#df-0608c598-5883-42a6-a76b-f92044cf3834');\n",
              "          const dataTable =\n",
              "            await google.colab.kernel.invokeFunction('convertToInteractive',\n",
              "                                                     [key], {});\n",
              "          if (!dataTable) return;\n",
              "\n",
              "          const docLinkHtml = 'Like what you see? Visit the ' +\n",
              "            '<a target=\"_blank\" href=https://colab.research.google.com/notebooks/data_table.ipynb>data table notebook</a>'\n",
              "            + ' to learn more about interactive tables.';\n",
              "          element.innerHTML = '';\n",
              "          dataTable['output_type'] = 'display_data';\n",
              "          await google.colab.output.renderOutput(dataTable, element);\n",
              "          const docLink = document.createElement('div');\n",
              "          docLink.innerHTML = docLinkHtml;\n",
              "          element.appendChild(docLink);\n",
              "        }\n",
              "      </script>\n",
              "    </div>\n",
              "  </div>\n",
              "  "
            ]
          },
          "metadata": {},
          "execution_count": 77
        }
      ]
    },
    {
      "cell_type": "markdown",
      "source": [
        "## Zadanie 2\n",
        "Funkcja train_test_split dzieli zbiór danych na zbiór testowy i treningowy zgodnie z ustaloną proporcją. Możemy wybrać dodatkowe parametry takie jak to ziarno generatora (seed), czy chcemy aby dane były wcześniej mieszane albo czy chcemy żeby zbiór testowy i treningowy miały taki sam odsetek danych należących do którejś z klas"
      ],
      "metadata": {
        "id": "cQMMOjPCU5At"
      }
    },
    {
      "cell_type": "markdown",
      "source": [
        "## Zadanie 3"
      ],
      "metadata": {
        "id": "fa_5c2ShVZN8"
      }
    },
    {
      "cell_type": "code",
      "source": [
        "col_name = ['cabin', 'cabinReduced', 'sex']"
      ],
      "metadata": {
        "id": "zs8le297Uq-p"
      },
      "execution_count": null,
      "outputs": []
    },
    {
      "cell_type": "markdown",
      "source": [
        "## Zadanie 4\n",
        "Dzielenie zbioru"
      ],
      "metadata": {
        "id": "Ul9Kq0hqVkoI"
      }
    },
    {
      "cell_type": "code",
      "source": [
        "y = titanic['survived']\n",
        "X = titanic[col_name]\n",
        "X_train, X_test, y_train, y_test = train_test_split(X, y, test_size=0.2, random_state=0)\n",
        "print(f'Rozmiar X_train: {X_train.shape}')\n",
        "print(f'Rozmiar X_test: {X_test.shape}')\n",
        "print(f'Rozmiar y_train: {y_train.shape}')\n",
        "print(f'Rozmiar y_test: {y_test.shape}')"
      ],
      "metadata": {
        "colab": {
          "base_uri": "https://localhost:8080/"
        },
        "id": "jjC3nMfBVjPU",
        "outputId": "dfb693db-9e8f-4c61-98bd-fdbe4b83c74d"
      },
      "execution_count": null,
      "outputs": [
        {
          "output_type": "stream",
          "name": "stdout",
          "text": [
            "Rozmiar X_train: (1047, 3)\n",
            "Rozmiar X_test: (262, 3)\n",
            "Rozmiar y_train: (1047,)\n",
            "Rozmiar y_test: (262,)\n"
          ]
        }
      ]
    },
    {
      "cell_type": "markdown",
      "source": [
        "Macierze dla zbioru treningowego (`X_train` i `y_train`) mają taką samą ilość wierszy, jest to mniej więcej 80% oryginalnej ilości wierszy; podobnie jest dla danych testowych. Macierze zmiennych niezależnych mają tą samą ilość cech (`X_train` i `X_test`), analogicznie jest dla danych zawierających zmienne zależne. Posiadają one 1 kolumnę, mimo że nie jest to napisane wprost."
      ],
      "metadata": {
        "id": "Qt9o8KF_WrDe"
      }
    },
    {
      "cell_type": "markdown",
      "source": [
        "## Zadanie 5"
      ],
      "metadata": {
        "id": "XU_HHPCxX2lC"
      }
    },
    {
      "cell_type": "code",
      "source": [
        "ut_sex = [x for x in X_test.sex.unique() if x not in X_train.sex.unique()]\n",
        "ut_cabin = [x for x in X_test.cabin.unique() if x not in X_train.cabin.unique()]\n",
        "ut_cabinReduced = [x for x in X_test.cabinReduced.unique() if x not in X_train.cabinReduced.unique()]\n",
        "ut_survived = [y for y in y_test.unique() if y not in y_train.unique()]\n",
        "\n",
        "print(f'Zmienna sex: {len(ut_sex)}')\n",
        "print(f'Zmienna cabin: {len(ut_cabin)}')\n",
        "print(f'Zmienna cabinReduced: {len(ut_cabinReduced)}')\n",
        "print(f'Zmienna survived: {len(ut_survived)}')\n",
        "\n",
        "print(f'\\nProcentowy udział etykiet zmiennej sex w zbiorze treningowym:\\n{X_train.sex.value_counts()/len(X_train)}')\n",
        "print(f'\\nProcentowy udział etykiet zmiennej sex w zbiorze testowym:\\n{X_test.sex.value_counts()/len(X_test)}')\n",
        "print(f'\\nProcentowy udział etykiet zmiennej cabinReduced w zbiorze treningowym:\\n{X_train.cabinReduced.value_counts()/len(X_train)}')\n",
        "print(f'\\nProcentowy udział etykiet zmiennej cabinReduced w zbiorze testowym:\\n{X_test.cabinReduced.value_counts()/len(X_test)}')\n",
        "print(f'\\nProcentowy udział etykiet zmiennej survived w zbiorze treningowym:\\n{y_train.value_counts()/len(y_train)}')\n",
        "print(f'\\nProcentowy udział etykiet zmiennej survived w zbiorze testowym:\\n{y_test.value_counts()/len(y_test)}')"
      ],
      "metadata": {
        "colab": {
          "base_uri": "https://localhost:8080/"
        },
        "id": "XcBwybBwWqAc",
        "outputId": "c09c495d-334b-49cf-9deb-8ad575a3f489"
      },
      "execution_count": null,
      "outputs": [
        {
          "output_type": "stream",
          "name": "stdout",
          "text": [
            "Zmienna sex: 0\n",
            "Zmienna cabin: 24\n",
            "Zmienna cabinReduced: 1\n",
            "Zmienna survived: 0\n",
            "\n",
            "Procentowy udział etykiet zmiennej sex w zbiorze treningowym:\n",
            "male      0.633238\n",
            "female    0.366762\n",
            "Name: sex, dtype: float64\n",
            "\n",
            "Procentowy udział etykiet zmiennej sex w zbiorze testowym:\n",
            "male      0.687023\n",
            "female    0.312977\n",
            "Name: sex, dtype: float64\n",
            "\n",
            "Procentowy udział etykiet zmiennej cabinReduced w zbiorze treningowym:\n",
            "C    0.074499\n",
            "B    0.049666\n",
            "E    0.034384\n",
            "D    0.034384\n",
            "A    0.018147\n",
            "F    0.017192\n",
            "G    0.003820\n",
            "T    0.000955\n",
            "Name: cabinReduced, dtype: float64\n",
            "\n",
            "Procentowy udział etykiet zmiennej cabinReduced w zbiorze testowym:\n",
            "C    0.061069\n",
            "B    0.049618\n",
            "D    0.038168\n",
            "E    0.019084\n",
            "A    0.011450\n",
            "F    0.011450\n",
            "G    0.003817\n",
            "Name: cabinReduced, dtype: float64\n",
            "\n",
            "Procentowy udział etykiet zmiennej survived w zbiorze treningowym:\n",
            "0    0.617956\n",
            "1    0.382044\n",
            "Name: survived, dtype: float64\n",
            "\n",
            "Procentowy udział etykiet zmiennej survived w zbiorze testowym:\n",
            "0    0.618321\n",
            "1    0.381679\n",
            "Name: survived, dtype: float64\n"
          ]
        }
      ]
    },
    {
      "cell_type": "markdown",
      "source": [
        "Konkluzja:\n",
        "* 24 etykiety zmiennej cabin znajdują się tylko i wyłącznie w zbiorze testowym!\n",
        "* Procentowo wszystkie etykiety poza `cabin` kształtują się tak samo w zbiorze treningowym i testowym, co sugeruje że dane podzieliły się dobrze"
      ],
      "metadata": {
        "id": "doplUQBaLKzj"
      }
    },
    {
      "cell_type": "markdown",
      "source": [
        "## Zadanie 6"
      ],
      "metadata": {
        "id": "1itTzIJrMU1e"
      }
    },
    {
      "cell_type": "markdown",
      "source": [
        "### zmienna cabin"
      ],
      "metadata": {
        "id": "xboeBvbxMY7S"
      }
    },
    {
      "cell_type": "code",
      "source": [
        "cabinDict = {}\n",
        "for num, el in enumerate(titanic.cabin.unique()):\n",
        "  cabinDict[el] = num\n",
        "\n",
        "list(cabinDict.items())[:5] #nan jest pod indeksem 6"
      ],
      "metadata": {
        "id": "k1iFQiyVYQJS",
        "colab": {
          "base_uri": "https://localhost:8080/"
        },
        "outputId": "fb4b3603-dcca-4fc3-ca53-2f289b38bdd5"
      },
      "execution_count": null,
      "outputs": [
        {
          "output_type": "execute_result",
          "data": {
            "text/plain": [
              "[('B5', 0), ('C22 C26', 1), ('E12', 2), ('D7', 3), ('A36', 4)]"
            ]
          },
          "metadata": {},
          "execution_count": 81
        }
      ]
    },
    {
      "cell_type": "markdown",
      "source": [
        "### zmienna cabinReduced"
      ],
      "metadata": {
        "id": "tGmwoCpaNUgh"
      }
    },
    {
      "cell_type": "code",
      "source": [
        "cabinReducedDict = {}\n",
        "for num, el in enumerate(titanic.cabinReduced.unique()):\n",
        "  cabinReducedDict[el] = num\n",
        "\n",
        "cabinReducedDict #nan jest pod indeksem 5"
      ],
      "metadata": {
        "colab": {
          "base_uri": "https://localhost:8080/"
        },
        "id": "IuU-tVOyNX24",
        "outputId": "5480437d-fd7b-407d-b41e-e16066d6682f"
      },
      "execution_count": null,
      "outputs": [
        {
          "output_type": "execute_result",
          "data": {
            "text/plain": [
              "{'B': 0, 'C': 1, 'E': 2, 'D': 3, 'A': 4, nan: 5, 'T': 6, 'F': 7, 'G': 8}"
            ]
          },
          "metadata": {},
          "execution_count": 82
        }
      ]
    },
    {
      "cell_type": "markdown",
      "source": [
        "### zmienna sex"
      ],
      "metadata": {
        "id": "rtVK4OZZNe3Y"
      }
    },
    {
      "cell_type": "code",
      "source": [
        "sexDict = {}\n",
        "for num, el in enumerate(titanic.sex.unique()):\n",
        "  sexDict[el] = num\n",
        "\n",
        "sexDict"
      ],
      "metadata": {
        "colab": {
          "base_uri": "https://localhost:8080/"
        },
        "id": "lwHrsX3_Nb7K",
        "outputId": "dd90c3e4-482a-4ce7-d0b1-23f110bf804e"
      },
      "execution_count": null,
      "outputs": [
        {
          "output_type": "execute_result",
          "data": {
            "text/plain": [
              "{'female': 0, 'male': 1}"
            ]
          },
          "metadata": {},
          "execution_count": 83
        }
      ]
    },
    {
      "cell_type": "markdown",
      "source": [
        "## Zadanie 7\n",
        "### zmienna cabin"
      ],
      "metadata": {
        "id": "n0MUhqP_N2R5"
      }
    },
    {
      "cell_type": "code",
      "source": [
        "X_train['cabinMapped'] = X_train.cabin.map(cabinDict)\n",
        "X_test['cabinMapped'] = X_test.cabin.map(cabinDict)\n",
        "X_train[['cabin', 'cabinMapped']].head()"
      ],
      "metadata": {
        "colab": {
          "base_uri": "https://localhost:8080/",
          "height": 206
        },
        "id": "pcvljbmPN4yq",
        "outputId": "48018237-b793-4bd4-ceed-60d1cd48b8bf"
      },
      "execution_count": null,
      "outputs": [
        {
          "output_type": "execute_result",
          "data": {
            "text/plain": [
              "     cabin  cabinMapped\n",
              "1118   NaN            6\n",
              "44     E40           28\n",
              "1072   NaN            6\n",
              "1130   NaN            6\n",
              "574    NaN            6"
            ],
            "text/html": [
              "\n",
              "  <div id=\"df-d542b59f-bbe7-45a4-a102-a05472ec43eb\">\n",
              "    <div class=\"colab-df-container\">\n",
              "      <div>\n",
              "<style scoped>\n",
              "    .dataframe tbody tr th:only-of-type {\n",
              "        vertical-align: middle;\n",
              "    }\n",
              "\n",
              "    .dataframe tbody tr th {\n",
              "        vertical-align: top;\n",
              "    }\n",
              "\n",
              "    .dataframe thead th {\n",
              "        text-align: right;\n",
              "    }\n",
              "</style>\n",
              "<table border=\"1\" class=\"dataframe\">\n",
              "  <thead>\n",
              "    <tr style=\"text-align: right;\">\n",
              "      <th></th>\n",
              "      <th>cabin</th>\n",
              "      <th>cabinMapped</th>\n",
              "    </tr>\n",
              "  </thead>\n",
              "  <tbody>\n",
              "    <tr>\n",
              "      <th>1118</th>\n",
              "      <td>NaN</td>\n",
              "      <td>6</td>\n",
              "    </tr>\n",
              "    <tr>\n",
              "      <th>44</th>\n",
              "      <td>E40</td>\n",
              "      <td>28</td>\n",
              "    </tr>\n",
              "    <tr>\n",
              "      <th>1072</th>\n",
              "      <td>NaN</td>\n",
              "      <td>6</td>\n",
              "    </tr>\n",
              "    <tr>\n",
              "      <th>1130</th>\n",
              "      <td>NaN</td>\n",
              "      <td>6</td>\n",
              "    </tr>\n",
              "    <tr>\n",
              "      <th>574</th>\n",
              "      <td>NaN</td>\n",
              "      <td>6</td>\n",
              "    </tr>\n",
              "  </tbody>\n",
              "</table>\n",
              "</div>\n",
              "      <button class=\"colab-df-convert\" onclick=\"convertToInteractive('df-d542b59f-bbe7-45a4-a102-a05472ec43eb')\"\n",
              "              title=\"Convert this dataframe to an interactive table.\"\n",
              "              style=\"display:none;\">\n",
              "        \n",
              "  <svg xmlns=\"http://www.w3.org/2000/svg\" height=\"24px\"viewBox=\"0 0 24 24\"\n",
              "       width=\"24px\">\n",
              "    <path d=\"M0 0h24v24H0V0z\" fill=\"none\"/>\n",
              "    <path d=\"M18.56 5.44l.94 2.06.94-2.06 2.06-.94-2.06-.94-.94-2.06-.94 2.06-2.06.94zm-11 1L8.5 8.5l.94-2.06 2.06-.94-2.06-.94L8.5 2.5l-.94 2.06-2.06.94zm10 10l.94 2.06.94-2.06 2.06-.94-2.06-.94-.94-2.06-.94 2.06-2.06.94z\"/><path d=\"M17.41 7.96l-1.37-1.37c-.4-.4-.92-.59-1.43-.59-.52 0-1.04.2-1.43.59L10.3 9.45l-7.72 7.72c-.78.78-.78 2.05 0 2.83L4 21.41c.39.39.9.59 1.41.59.51 0 1.02-.2 1.41-.59l7.78-7.78 2.81-2.81c.8-.78.8-2.07 0-2.86zM5.41 20L4 18.59l7.72-7.72 1.47 1.35L5.41 20z\"/>\n",
              "  </svg>\n",
              "      </button>\n",
              "      \n",
              "  <style>\n",
              "    .colab-df-container {\n",
              "      display:flex;\n",
              "      flex-wrap:wrap;\n",
              "      gap: 12px;\n",
              "    }\n",
              "\n",
              "    .colab-df-convert {\n",
              "      background-color: #E8F0FE;\n",
              "      border: none;\n",
              "      border-radius: 50%;\n",
              "      cursor: pointer;\n",
              "      display: none;\n",
              "      fill: #1967D2;\n",
              "      height: 32px;\n",
              "      padding: 0 0 0 0;\n",
              "      width: 32px;\n",
              "    }\n",
              "\n",
              "    .colab-df-convert:hover {\n",
              "      background-color: #E2EBFA;\n",
              "      box-shadow: 0px 1px 2px rgba(60, 64, 67, 0.3), 0px 1px 3px 1px rgba(60, 64, 67, 0.15);\n",
              "      fill: #174EA6;\n",
              "    }\n",
              "\n",
              "    [theme=dark] .colab-df-convert {\n",
              "      background-color: #3B4455;\n",
              "      fill: #D2E3FC;\n",
              "    }\n",
              "\n",
              "    [theme=dark] .colab-df-convert:hover {\n",
              "      background-color: #434B5C;\n",
              "      box-shadow: 0px 1px 3px 1px rgba(0, 0, 0, 0.15);\n",
              "      filter: drop-shadow(0px 1px 2px rgba(0, 0, 0, 0.3));\n",
              "      fill: #FFFFFF;\n",
              "    }\n",
              "  </style>\n",
              "\n",
              "      <script>\n",
              "        const buttonEl =\n",
              "          document.querySelector('#df-d542b59f-bbe7-45a4-a102-a05472ec43eb button.colab-df-convert');\n",
              "        buttonEl.style.display =\n",
              "          google.colab.kernel.accessAllowed ? 'block' : 'none';\n",
              "\n",
              "        async function convertToInteractive(key) {\n",
              "          const element = document.querySelector('#df-d542b59f-bbe7-45a4-a102-a05472ec43eb');\n",
              "          const dataTable =\n",
              "            await google.colab.kernel.invokeFunction('convertToInteractive',\n",
              "                                                     [key], {});\n",
              "          if (!dataTable) return;\n",
              "\n",
              "          const docLinkHtml = 'Like what you see? Visit the ' +\n",
              "            '<a target=\"_blank\" href=https://colab.research.google.com/notebooks/data_table.ipynb>data table notebook</a>'\n",
              "            + ' to learn more about interactive tables.';\n",
              "          element.innerHTML = '';\n",
              "          dataTable['output_type'] = 'display_data';\n",
              "          await google.colab.output.renderOutput(dataTable, element);\n",
              "          const docLink = document.createElement('div');\n",
              "          docLink.innerHTML = docLinkHtml;\n",
              "          element.appendChild(docLink);\n",
              "        }\n",
              "      </script>\n",
              "    </div>\n",
              "  </div>\n",
              "  "
            ]
          },
          "metadata": {},
          "execution_count": 84
        }
      ]
    },
    {
      "cell_type": "markdown",
      "source": [
        "### zmienna cabinReduced"
      ],
      "metadata": {
        "id": "LZbIGw-AOaqd"
      }
    },
    {
      "cell_type": "code",
      "source": [
        "X_train['cabinReducedMapped'] = X_train.cabinReduced.map(cabinReducedDict)\n",
        "X_test['cabinReducedMapped'] = X_test.cabinReduced.map(cabinReducedDict)\n",
        "X_train[['cabinReduced', 'cabinReducedMapped']].head()"
      ],
      "metadata": {
        "colab": {
          "base_uri": "https://localhost:8080/",
          "height": 206
        },
        "id": "7t7kMZMuOcHm",
        "outputId": "65637dac-e902-4f69-bd85-de0e37ddb226"
      },
      "execution_count": null,
      "outputs": [
        {
          "output_type": "execute_result",
          "data": {
            "text/plain": [
              "     cabinReduced  cabinReducedMapped\n",
              "1118          NaN                   5\n",
              "44              E                   2\n",
              "1072          NaN                   5\n",
              "1130          NaN                   5\n",
              "574           NaN                   5"
            ],
            "text/html": [
              "\n",
              "  <div id=\"df-e16a75f0-1ac8-4119-a2ac-c502c83dace4\">\n",
              "    <div class=\"colab-df-container\">\n",
              "      <div>\n",
              "<style scoped>\n",
              "    .dataframe tbody tr th:only-of-type {\n",
              "        vertical-align: middle;\n",
              "    }\n",
              "\n",
              "    .dataframe tbody tr th {\n",
              "        vertical-align: top;\n",
              "    }\n",
              "\n",
              "    .dataframe thead th {\n",
              "        text-align: right;\n",
              "    }\n",
              "</style>\n",
              "<table border=\"1\" class=\"dataframe\">\n",
              "  <thead>\n",
              "    <tr style=\"text-align: right;\">\n",
              "      <th></th>\n",
              "      <th>cabinReduced</th>\n",
              "      <th>cabinReducedMapped</th>\n",
              "    </tr>\n",
              "  </thead>\n",
              "  <tbody>\n",
              "    <tr>\n",
              "      <th>1118</th>\n",
              "      <td>NaN</td>\n",
              "      <td>5</td>\n",
              "    </tr>\n",
              "    <tr>\n",
              "      <th>44</th>\n",
              "      <td>E</td>\n",
              "      <td>2</td>\n",
              "    </tr>\n",
              "    <tr>\n",
              "      <th>1072</th>\n",
              "      <td>NaN</td>\n",
              "      <td>5</td>\n",
              "    </tr>\n",
              "    <tr>\n",
              "      <th>1130</th>\n",
              "      <td>NaN</td>\n",
              "      <td>5</td>\n",
              "    </tr>\n",
              "    <tr>\n",
              "      <th>574</th>\n",
              "      <td>NaN</td>\n",
              "      <td>5</td>\n",
              "    </tr>\n",
              "  </tbody>\n",
              "</table>\n",
              "</div>\n",
              "      <button class=\"colab-df-convert\" onclick=\"convertToInteractive('df-e16a75f0-1ac8-4119-a2ac-c502c83dace4')\"\n",
              "              title=\"Convert this dataframe to an interactive table.\"\n",
              "              style=\"display:none;\">\n",
              "        \n",
              "  <svg xmlns=\"http://www.w3.org/2000/svg\" height=\"24px\"viewBox=\"0 0 24 24\"\n",
              "       width=\"24px\">\n",
              "    <path d=\"M0 0h24v24H0V0z\" fill=\"none\"/>\n",
              "    <path d=\"M18.56 5.44l.94 2.06.94-2.06 2.06-.94-2.06-.94-.94-2.06-.94 2.06-2.06.94zm-11 1L8.5 8.5l.94-2.06 2.06-.94-2.06-.94L8.5 2.5l-.94 2.06-2.06.94zm10 10l.94 2.06.94-2.06 2.06-.94-2.06-.94-.94-2.06-.94 2.06-2.06.94z\"/><path d=\"M17.41 7.96l-1.37-1.37c-.4-.4-.92-.59-1.43-.59-.52 0-1.04.2-1.43.59L10.3 9.45l-7.72 7.72c-.78.78-.78 2.05 0 2.83L4 21.41c.39.39.9.59 1.41.59.51 0 1.02-.2 1.41-.59l7.78-7.78 2.81-2.81c.8-.78.8-2.07 0-2.86zM5.41 20L4 18.59l7.72-7.72 1.47 1.35L5.41 20z\"/>\n",
              "  </svg>\n",
              "      </button>\n",
              "      \n",
              "  <style>\n",
              "    .colab-df-container {\n",
              "      display:flex;\n",
              "      flex-wrap:wrap;\n",
              "      gap: 12px;\n",
              "    }\n",
              "\n",
              "    .colab-df-convert {\n",
              "      background-color: #E8F0FE;\n",
              "      border: none;\n",
              "      border-radius: 50%;\n",
              "      cursor: pointer;\n",
              "      display: none;\n",
              "      fill: #1967D2;\n",
              "      height: 32px;\n",
              "      padding: 0 0 0 0;\n",
              "      width: 32px;\n",
              "    }\n",
              "\n",
              "    .colab-df-convert:hover {\n",
              "      background-color: #E2EBFA;\n",
              "      box-shadow: 0px 1px 2px rgba(60, 64, 67, 0.3), 0px 1px 3px 1px rgba(60, 64, 67, 0.15);\n",
              "      fill: #174EA6;\n",
              "    }\n",
              "\n",
              "    [theme=dark] .colab-df-convert {\n",
              "      background-color: #3B4455;\n",
              "      fill: #D2E3FC;\n",
              "    }\n",
              "\n",
              "    [theme=dark] .colab-df-convert:hover {\n",
              "      background-color: #434B5C;\n",
              "      box-shadow: 0px 1px 3px 1px rgba(0, 0, 0, 0.15);\n",
              "      filter: drop-shadow(0px 1px 2px rgba(0, 0, 0, 0.3));\n",
              "      fill: #FFFFFF;\n",
              "    }\n",
              "  </style>\n",
              "\n",
              "      <script>\n",
              "        const buttonEl =\n",
              "          document.querySelector('#df-e16a75f0-1ac8-4119-a2ac-c502c83dace4 button.colab-df-convert');\n",
              "        buttonEl.style.display =\n",
              "          google.colab.kernel.accessAllowed ? 'block' : 'none';\n",
              "\n",
              "        async function convertToInteractive(key) {\n",
              "          const element = document.querySelector('#df-e16a75f0-1ac8-4119-a2ac-c502c83dace4');\n",
              "          const dataTable =\n",
              "            await google.colab.kernel.invokeFunction('convertToInteractive',\n",
              "                                                     [key], {});\n",
              "          if (!dataTable) return;\n",
              "\n",
              "          const docLinkHtml = 'Like what you see? Visit the ' +\n",
              "            '<a target=\"_blank\" href=https://colab.research.google.com/notebooks/data_table.ipynb>data table notebook</a>'\n",
              "            + ' to learn more about interactive tables.';\n",
              "          element.innerHTML = '';\n",
              "          dataTable['output_type'] = 'display_data';\n",
              "          await google.colab.output.renderOutput(dataTable, element);\n",
              "          const docLink = document.createElement('div');\n",
              "          docLink.innerHTML = docLinkHtml;\n",
              "          element.appendChild(docLink);\n",
              "        }\n",
              "      </script>\n",
              "    </div>\n",
              "  </div>\n",
              "  "
            ]
          },
          "metadata": {},
          "execution_count": 85
        }
      ]
    },
    {
      "cell_type": "markdown",
      "source": [
        "### zmienna sex"
      ],
      "metadata": {
        "id": "Vq15V3XGOiUJ"
      }
    },
    {
      "cell_type": "code",
      "source": [
        "X_train['sexMapped'] = X_train.sex.map(sexDict)\n",
        "X_test['sexMapped'] = X_test.sex.map(sexDict)\n",
        "X_train[['sex', 'sexMapped']].head()"
      ],
      "metadata": {
        "colab": {
          "base_uri": "https://localhost:8080/",
          "height": 206
        },
        "id": "v-WdWmrkOhMd",
        "outputId": "f89aa475-2ea1-40e4-d1e6-8657faf350e4"
      },
      "execution_count": null,
      "outputs": [
        {
          "output_type": "execute_result",
          "data": {
            "text/plain": [
              "         sex  sexMapped\n",
              "1118    male          1\n",
              "44    female          0\n",
              "1072    male          1\n",
              "1130  female          0\n",
              "574     male          1"
            ],
            "text/html": [
              "\n",
              "  <div id=\"df-e5947d2a-d002-4e2b-842b-753e44679dc2\">\n",
              "    <div class=\"colab-df-container\">\n",
              "      <div>\n",
              "<style scoped>\n",
              "    .dataframe tbody tr th:only-of-type {\n",
              "        vertical-align: middle;\n",
              "    }\n",
              "\n",
              "    .dataframe tbody tr th {\n",
              "        vertical-align: top;\n",
              "    }\n",
              "\n",
              "    .dataframe thead th {\n",
              "        text-align: right;\n",
              "    }\n",
              "</style>\n",
              "<table border=\"1\" class=\"dataframe\">\n",
              "  <thead>\n",
              "    <tr style=\"text-align: right;\">\n",
              "      <th></th>\n",
              "      <th>sex</th>\n",
              "      <th>sexMapped</th>\n",
              "    </tr>\n",
              "  </thead>\n",
              "  <tbody>\n",
              "    <tr>\n",
              "      <th>1118</th>\n",
              "      <td>male</td>\n",
              "      <td>1</td>\n",
              "    </tr>\n",
              "    <tr>\n",
              "      <th>44</th>\n",
              "      <td>female</td>\n",
              "      <td>0</td>\n",
              "    </tr>\n",
              "    <tr>\n",
              "      <th>1072</th>\n",
              "      <td>male</td>\n",
              "      <td>1</td>\n",
              "    </tr>\n",
              "    <tr>\n",
              "      <th>1130</th>\n",
              "      <td>female</td>\n",
              "      <td>0</td>\n",
              "    </tr>\n",
              "    <tr>\n",
              "      <th>574</th>\n",
              "      <td>male</td>\n",
              "      <td>1</td>\n",
              "    </tr>\n",
              "  </tbody>\n",
              "</table>\n",
              "</div>\n",
              "      <button class=\"colab-df-convert\" onclick=\"convertToInteractive('df-e5947d2a-d002-4e2b-842b-753e44679dc2')\"\n",
              "              title=\"Convert this dataframe to an interactive table.\"\n",
              "              style=\"display:none;\">\n",
              "        \n",
              "  <svg xmlns=\"http://www.w3.org/2000/svg\" height=\"24px\"viewBox=\"0 0 24 24\"\n",
              "       width=\"24px\">\n",
              "    <path d=\"M0 0h24v24H0V0z\" fill=\"none\"/>\n",
              "    <path d=\"M18.56 5.44l.94 2.06.94-2.06 2.06-.94-2.06-.94-.94-2.06-.94 2.06-2.06.94zm-11 1L8.5 8.5l.94-2.06 2.06-.94-2.06-.94L8.5 2.5l-.94 2.06-2.06.94zm10 10l.94 2.06.94-2.06 2.06-.94-2.06-.94-.94-2.06-.94 2.06-2.06.94z\"/><path d=\"M17.41 7.96l-1.37-1.37c-.4-.4-.92-.59-1.43-.59-.52 0-1.04.2-1.43.59L10.3 9.45l-7.72 7.72c-.78.78-.78 2.05 0 2.83L4 21.41c.39.39.9.59 1.41.59.51 0 1.02-.2 1.41-.59l7.78-7.78 2.81-2.81c.8-.78.8-2.07 0-2.86zM5.41 20L4 18.59l7.72-7.72 1.47 1.35L5.41 20z\"/>\n",
              "  </svg>\n",
              "      </button>\n",
              "      \n",
              "  <style>\n",
              "    .colab-df-container {\n",
              "      display:flex;\n",
              "      flex-wrap:wrap;\n",
              "      gap: 12px;\n",
              "    }\n",
              "\n",
              "    .colab-df-convert {\n",
              "      background-color: #E8F0FE;\n",
              "      border: none;\n",
              "      border-radius: 50%;\n",
              "      cursor: pointer;\n",
              "      display: none;\n",
              "      fill: #1967D2;\n",
              "      height: 32px;\n",
              "      padding: 0 0 0 0;\n",
              "      width: 32px;\n",
              "    }\n",
              "\n",
              "    .colab-df-convert:hover {\n",
              "      background-color: #E2EBFA;\n",
              "      box-shadow: 0px 1px 2px rgba(60, 64, 67, 0.3), 0px 1px 3px 1px rgba(60, 64, 67, 0.15);\n",
              "      fill: #174EA6;\n",
              "    }\n",
              "\n",
              "    [theme=dark] .colab-df-convert {\n",
              "      background-color: #3B4455;\n",
              "      fill: #D2E3FC;\n",
              "    }\n",
              "\n",
              "    [theme=dark] .colab-df-convert:hover {\n",
              "      background-color: #434B5C;\n",
              "      box-shadow: 0px 1px 3px 1px rgba(0, 0, 0, 0.15);\n",
              "      filter: drop-shadow(0px 1px 2px rgba(0, 0, 0, 0.3));\n",
              "      fill: #FFFFFF;\n",
              "    }\n",
              "  </style>\n",
              "\n",
              "      <script>\n",
              "        const buttonEl =\n",
              "          document.querySelector('#df-e5947d2a-d002-4e2b-842b-753e44679dc2 button.colab-df-convert');\n",
              "        buttonEl.style.display =\n",
              "          google.colab.kernel.accessAllowed ? 'block' : 'none';\n",
              "\n",
              "        async function convertToInteractive(key) {\n",
              "          const element = document.querySelector('#df-e5947d2a-d002-4e2b-842b-753e44679dc2');\n",
              "          const dataTable =\n",
              "            await google.colab.kernel.invokeFunction('convertToInteractive',\n",
              "                                                     [key], {});\n",
              "          if (!dataTable) return;\n",
              "\n",
              "          const docLinkHtml = 'Like what you see? Visit the ' +\n",
              "            '<a target=\"_blank\" href=https://colab.research.google.com/notebooks/data_table.ipynb>data table notebook</a>'\n",
              "            + ' to learn more about interactive tables.';\n",
              "          element.innerHTML = '';\n",
              "          dataTable['output_type'] = 'display_data';\n",
              "          await google.colab.output.renderOutput(dataTable, element);\n",
              "          const docLink = document.createElement('div');\n",
              "          docLink.innerHTML = docLinkHtml;\n",
              "          element.appendChild(docLink);\n",
              "        }\n",
              "      </script>\n",
              "    </div>\n",
              "  </div>\n",
              "  "
            ]
          },
          "metadata": {},
          "execution_count": 86
        }
      ]
    },
    {
      "cell_type": "markdown",
      "source": [
        "## Zadanie 8"
      ],
      "metadata": {
        "id": "4QEb_W4LQcFO"
      }
    },
    {
      "cell_type": "code",
      "source": [
        "print(X_train.isna().mean())\n",
        "print(f'\\n{X_test.isna().mean()}')"
      ],
      "metadata": {
        "colab": {
          "base_uri": "https://localhost:8080/"
        },
        "id": "qCNqCk19Ou0V",
        "outputId": "0a94096a-26fb-40da-c1a9-396a40234c8a"
      },
      "execution_count": null,
      "outputs": [
        {
          "output_type": "stream",
          "name": "stdout",
          "text": [
            "cabin                 0.766953\n",
            "cabinReduced          0.766953\n",
            "sex                   0.000000\n",
            "cabinMapped           0.000000\n",
            "cabinReducedMapped    0.000000\n",
            "sexMapped             0.000000\n",
            "dtype: float64\n",
            "\n",
            "cabin                 0.805344\n",
            "cabinReduced          0.805344\n",
            "sex                   0.000000\n",
            "cabinMapped           0.000000\n",
            "cabinReducedMapped    0.000000\n",
            "sexMapped             0.000000\n",
            "dtype: float64\n"
          ]
        }
      ]
    },
    {
      "cell_type": "markdown",
      "source": [
        "Nowe zmapowane wartości nie zawierają żadnych nulli, ponieważ zostały zastąpione przez wartości liczbowe: odpowiednio 5 i 6 dla kolumn cabin i cabinReduced"
      ],
      "metadata": {
        "id": "WgBWRsjvRNP2"
      }
    },
    {
      "cell_type": "markdown",
      "source": [
        "## Zadanie 9"
      ],
      "metadata": {
        "id": "XjpBfrnOTQyN"
      }
    },
    {
      "cell_type": "code",
      "source": [
        "# Kolumny cabin i cabinReduced\n",
        "X_train_filled = X_train.fillna(0)\n",
        "X_test_filled = X_test.fillna(0)"
      ],
      "metadata": {
        "colab": {
          "base_uri": "https://localhost:8080/"
        },
        "id": "ivMeWexQTEPW",
        "outputId": "d8d76130-8759-4e80-9eb3-ba67ebc50be5"
      },
      "execution_count": null,
      "outputs": [
        {
          "output_type": "stream",
          "name": "stdout",
          "text": [
            "cabin                 0.0\n",
            "cabinReduced          0.0\n",
            "sex                   0.0\n",
            "cabinMapped           0.0\n",
            "cabinReducedMapped    0.0\n",
            "sexMapped             0.0\n",
            "dtype: float64\n",
            "\n",
            "cabin                 0.0\n",
            "cabinReduced          0.0\n",
            "sex                   0.0\n",
            "cabinMapped           0.0\n",
            "cabinReducedMapped    0.0\n",
            "sexMapped             0.0\n",
            "dtype: float64\n"
          ]
        }
      ]
    },
    {
      "cell_type": "code",
      "source": [
        "# Kolumny zmapowane\n",
        "cabinDict[np.nan], cabinDict['B5'] = cabinDict['B5'], cabinDict[np.nan]\n",
        "cabinReducedDict[np.nan], cabinReducedDict['B'] = cabinReducedDict['B'], cabinReducedDict[np.nan]\n",
        "cabinReducedDict"
      ],
      "metadata": {
        "colab": {
          "base_uri": "https://localhost:8080/"
        },
        "id": "5PJRUlo8Un-A",
        "outputId": "c3c1bde6-1054-4fe8-c1b8-485f359f58cd"
      },
      "execution_count": null,
      "outputs": [
        {
          "output_type": "execute_result",
          "data": {
            "text/plain": [
              "{'B': 5, 'C': 1, 'E': 2, 'D': 3, 'A': 4, nan: 0, 'T': 6, 'F': 7, 'G': 8}"
            ]
          },
          "metadata": {},
          "execution_count": 90
        }
      ]
    },
    {
      "cell_type": "code",
      "source": [
        "# Wstawianie tych wartości jeszcze raz\n",
        "X_train_filled['cabinMapped'] = X_train.cabin.map(cabinDict)\n",
        "X_test_filled['cabinMapped'] = X_test.cabin.map(cabinDict)\n",
        "X_train_filled['cabinReducedMapped'] = X_train.cabinReduced.map(cabinReducedDict)\n",
        "X_test_filled['cabinReducedMapped'] = X_test.cabinReduced.map(cabinReducedDict)"
      ],
      "metadata": {
        "id": "b3IH9mlRVGRo"
      },
      "execution_count": null,
      "outputs": []
    },
    {
      "cell_type": "code",
      "source": [
        "print(X_train_filled.isna().mean())\n",
        "print(f'\\n{X_test_filled.isna().mean()}')"
      ],
      "metadata": {
        "colab": {
          "base_uri": "https://localhost:8080/"
        },
        "id": "YrlgWqgRUq4u",
        "outputId": "c1563562-b0c7-4754-d8df-384d7856cd33"
      },
      "execution_count": null,
      "outputs": [
        {
          "output_type": "stream",
          "name": "stdout",
          "text": [
            "cabin                 0.0\n",
            "cabinReduced          0.0\n",
            "sex                   0.0\n",
            "cabinMapped           0.0\n",
            "cabinReducedMapped    0.0\n",
            "sexMapped             0.0\n",
            "dtype: float64\n",
            "\n",
            "cabin                 0.0\n",
            "cabinReduced          0.0\n",
            "sex                   0.0\n",
            "cabinMapped           0.0\n",
            "cabinReducedMapped    0.0\n",
            "sexMapped             0.0\n",
            "dtype: float64\n"
          ]
        }
      ]
    },
    {
      "cell_type": "markdown",
      "source": [
        "Zastąpiliśmy brakujące wartości w kolumnach cabin i cabinReduced na 0, nie jest to najlepsze rozwiązanie bo algorytm może się pogubić i nie wiedzieć co to tak właściwie oznacza, tym bardziej, że jak dowiedliśmy w poprzednim zestawie nie są to wartości całkowicie losowo brakujące tylko istnieje związek między wartościami brakującymi a kolumną `survived`."
      ],
      "metadata": {
        "id": "AL4bDlyPTkps"
      }
    },
    {
      "cell_type": "markdown",
      "source": [
        "## Zadanie 10"
      ],
      "metadata": {
        "id": "GntqiKTsVjm2"
      }
    },
    {
      "cell_type": "code",
      "source": [
        "print(f'Unikatowe wartości cabin w treningowym: {len(X_train_filled.cabin.unique())}')\n",
        "print(f'Unikatowe wartości cabin w testowym: {len(X_test_filled.cabin.unique())}')\n",
        "\n",
        "print(f'\\nUnikatowe wartości cabinReduced w treningowym: {len(X_train_filled.cabinReduced.unique())}')\n",
        "print(f'Unikatowe wartości cabinReduced w testowym: {len(X_test_filled.cabinReduced.unique())}')\n",
        "\n",
        "print(f'\\nUnikatowe wartości sex w treningowym: {len(X_train_filled.sex.unique())}')\n",
        "print(f'Unikatowe wartości sex w testowym: {len(X_test_filled.sex.unique())}')\n",
        "\n",
        "print(f'\\nUnikatowe wartości cabinMapped w treningowym: {len(X_train_filled.cabinMapped.unique())}')\n",
        "print(f'Unikatowe wartości cabinMapped w testowym: {len(X_test_filled.cabinMapped.unique())}')\n",
        "\n",
        "print(f'\\nUnikatowe wartości cabinReducedMapped w treningowym: {len(X_train_filled.cabinReducedMapped.unique())}')\n",
        "print(f'Unikatowe wartości cabinReducedMapped w testowym: {len(X_test_filled.cabinReducedMapped.unique())}')\n",
        "\n",
        "print(f'\\nUnikatowe wartości sexMapped w treningowym: {len(X_train_filled.sexMapped.unique())}')\n",
        "print(f'Unikatowe wartości sexMapped w testowym: {len(X_test_filled.sexMapped.unique())}')"
      ],
      "metadata": {
        "colab": {
          "base_uri": "https://localhost:8080/"
        },
        "id": "E6JlwQq3TjYW",
        "outputId": "e2fe44b1-bedd-4694-ff80-c4fc569835a2"
      },
      "execution_count": null,
      "outputs": [
        {
          "output_type": "stream",
          "name": "stdout",
          "text": [
            "Unikatowe wartości cabin w treningowym: 164\n",
            "Unikatowe wartości cabin w testowym: 49\n",
            "\n",
            "Unikatowe wartości cabinReduced w treningowym: 9\n",
            "Unikatowe wartości cabinReduced w testowym: 8\n",
            "\n",
            "Unikatowe wartości sex w treningowym: 2\n",
            "Unikatowe wartości sex w testowym: 2\n",
            "\n",
            "Unikatowe wartości cabinMapped w treningowym: 164\n",
            "Unikatowe wartości cabinMapped w testowym: 49\n",
            "\n",
            "Unikatowe wartości cabinReducedMapped w treningowym: 9\n",
            "Unikatowe wartości cabinReducedMapped w testowym: 8\n",
            "\n",
            "Unikatowe wartości sexMapped w treningowym: 2\n",
            "Unikatowe wartości sexMapped w testowym: 2\n"
          ]
        }
      ]
    },
    {
      "cell_type": "markdown",
      "source": [
        "### Konkluzja:\n",
        "* Liczba unikalnych etykiet różni się między cechami `cabin` i `cabinReduced` ponieważ zmniejszyliśmy ich ilość\n",
        "* Nie ma różnicy w ilości unikalnych etykiet po zmapowaniu - nie zmienialiśmy w żaden sposób warunków przynależności do danych klas, jedynie nazwaliśmy je inaczej więc nie będzie żadnych różnic\n",
        "* Całość może mieć wpływ na końcowy wynik predykcji ponieważ:\n",
        "  * Modele lepiej radzą sobie z wartościami numerycznymi niż ze stringami, niektóre nawet nie przyjmują ich\n",
        "  * Z drugiej strony nie możemy teraz używać niektórych modeli np. liniowych ponieważ wartości 1, 2, 3 itd. etykiet nie są porządkowe lecz kategoryczne a model tego nie będzie wiedział\n",
        "  * Problemem i tak zostają wartości brakujące które są tutaj zgrupowane jako jedna osobna kategoria i występuje silna korelacja między tą kategorią a przeżyciem - model może nadać tej cesze dużą wagę i na tym opierać swoje predykcje, a chodzi nam bardziej o *predykowanie na podstawie kabiny w której mieszkał podróżujący* niż *predykowanie na podstawie brakującej kabiny*"
      ],
      "metadata": {
        "id": "UMXomx3jWdYe"
      }
    }
  ]
}